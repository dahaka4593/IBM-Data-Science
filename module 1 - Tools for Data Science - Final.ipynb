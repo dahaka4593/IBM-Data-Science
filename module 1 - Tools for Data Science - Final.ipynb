{
 "cells": [
  {
   "cell_type": "markdown",
   "id": "415830f1",
   "metadata": {},
   "source": [
    "# Data Science Tools and Ecosystem\n"
   ]
  },
  {
   "cell_type": "markdown",
   "id": "e0d16644",
   "metadata": {},
   "source": [
    "## In this notebook, Data Science Tools and Ecosystem are Summarized."
   ]
  },
  {
   "cell_type": "markdown",
   "id": "7c4206ce",
   "metadata": {},
   "source": [
    "## Objectives:\n",
    "*  Learn how to use markdown\n",
    "* Learn how to use tables\n",
    "* Learn how to use arithmetic expressions in Python\n",
    "\n",
    "### Items covered:\n",
    "* Popular Languages for Data Science\n",
    "* Common libraries for data science in python\n",
    "* Common open source IDEs for data science"
   ]
  },
  {
   "cell_type": "markdown",
   "id": "b55d19c9",
   "metadata": {},
   "source": [
    "### Some of the popular languages that Data Scientists use are:\n",
    "1. Python \n",
    "2. R\n",
    "3. SQL"
   ]
  },
  {
   "cell_type": "markdown",
   "id": "8bed80ea",
   "metadata": {},
   "source": [
    "### Some of the commonly used libraries used by Data Scientists are:\n",
    "1. Numpy\n",
    "2. SciPy\n",
    "3. Pandas"
   ]
  },
  {
   "cell_type": "markdown",
   "id": "ccb8d345",
   "metadata": {},
   "source": [
    "| Data Science Tools |\n",
    "|--------------------|\n",
    "|        R           |\n",
    "|      Jupyter       |\n",
    "|  Apache Zeppelin   | \n",
    " "
   ]
  },
  {
   "cell_type": "markdown",
   "id": "42ec860f",
   "metadata": {},
   "source": [
    "### Below are a few examples of evaluating arithmetic expressions in Python"
   ]
  },
  {
   "cell_type": "code",
   "execution_count": 8,
   "id": "6f73b068",
   "metadata": {},
   "outputs": [
    {
     "data": {
      "text/plain": [
       "2521.3333333333335"
      ]
     },
     "execution_count": 8,
     "metadata": {},
     "output_type": "execute_result"
    }
   ],
   "source": [
    "45*56+(4/3)\n",
    "# This expression multiplies 45 and 56 and adds 4/3 "
   ]
  },
  {
   "cell_type": "code",
   "execution_count": 9,
   "id": "e80a1bb7",
   "metadata": {},
   "outputs": [
    {
     "data": {
      "text/plain": [
       "8"
      ]
     },
     "execution_count": 9,
     "metadata": {},
     "output_type": "execute_result"
    }
   ],
   "source": [
    "4 + 4\n",
    "#This expression adds two numbers"
   ]
  },
  {
   "cell_type": "code",
   "execution_count": 10,
   "id": "fde1dea9",
   "metadata": {},
   "outputs": [
    {
     "data": {
      "text/plain": [
       "1.6666666666666667"
      ]
     },
     "execution_count": 10,
     "metadata": {},
     "output_type": "execute_result"
    }
   ],
   "source": [
    "25 / (5+10)\n",
    "#This expression divides 25 over the sum of 10+5."
   ]
  },
  {
   "cell_type": "code",
   "execution_count": 11,
   "id": "f5004383",
   "metadata": {},
   "outputs": [
    {
     "name": "stdout",
     "output_type": "stream",
     "text": [
      "3.3333333333333335\n"
     ]
    }
   ],
   "source": [
    "x = 200   #minutes\n",
    "y = x/60  #x in terms of hours. The decimal is not in minutes.\n",
    "print(y)"
   ]
  },
  {
   "cell_type": "markdown",
   "id": "c4f88068",
   "metadata": {},
   "source": [
    "## Author\n",
    "Ahmed De Alba Garza\n"
   ]
  },
  {
   "cell_type": "code",
   "execution_count": null,
   "id": "54438d94",
   "metadata": {},
   "outputs": [],
   "source": []
  }
 ],
 "metadata": {
  "kernelspec": {
   "display_name": "Python 3 (ipykernel)",
   "language": "python",
   "name": "python3"
  },
  "language_info": {
   "codemirror_mode": {
    "name": "ipython",
    "version": 3
   },
   "file_extension": ".py",
   "mimetype": "text/x-python",
   "name": "python",
   "nbconvert_exporter": "python",
   "pygments_lexer": "ipython3",
   "version": "3.11.3"
  }
 },
 "nbformat": 4,
 "nbformat_minor": 5
}
